{
 "cells": [
  {
   "attachments": {},
   "cell_type": "markdown",
   "metadata": {},
   "source": [
    "# STAT 301 Final Group Report"
   ]
  },
  {
   "attachments": {},
   "cell_type": "markdown",
   "metadata": {},
   "source": [
    "# Title"
   ]
  },
  {
   "attachments": {},
   "cell_type": "markdown",
   "metadata": {},
   "source": [
    "Group Members:\n",
    "- Vivaan Jhaveri (39723044)\n",
    "- Ethan Rajkumar\n",
    "- Michael Wang\n",
    "- Ruhani Kaur"
   ]
  },
  {
   "attachments": {},
   "cell_type": "markdown",
   "metadata": {},
   "source": [
    "## Introduction"
   ]
  },
  {
   "attachments": {},
   "cell_type": "markdown",
   "metadata": {},
   "source": [
    "Employee turnover is a critical challenge for many organizations as it directly impacts productivity, morale, and financial performance. High turnover rates can lead to increased recruitment and training costs, loss of institutional knowledge, and disruptions to team dynamics. Understanding the factors that drive employees to leave is essential for developing effective retention strategies. Variables such as compensation, job satisfaction, demographic characteristics, and professional qualifications (education, experience) often play significant roles in influencing turnover. By leveraging data-driven methods like logistic regression, organizations can identify key predictors of employee turnover and quantify their impact, enabling proactive interventions to enhance workforce stability.\n",
    "\n",
    "The dataset used in this report is the `Employee` dataset (Employee Dataset, 2023). This dataset provides anonymized data on company employees, including details such as educational attainment, job tenure, office location, salary tier, demographic attributes, and their work status within the organization. This dataset was gathered by the company’s Human Resources team and subsequently shared on Kaggle, a platform that hosts datasets and resources for data science professionals and enthusiasts.\n",
    "\n",
    "Key Statistics:\n",
    "- Total Observations: 4,653 employees\n",
    "- Total Variables: 9 variables, each contributing to potential insights on employee demographics, job role characteristics, and retention patterns.\n",
    "\n",
    "Key Variables:\n",
    "- `Education`: Categorical variable representing the highest level of education attained by the employee (\"Bachelors\" \"Masters\", \"PhD\").\n",
    "- `JoiningYear`: Numerical variable representing the year the employee joined the company.\n",
    "- `City`: Categorical variable representing the city where the employee is located (\"New Delhi\", \"Bangalore\" \"Pune\").\n",
    "- `PaymentTier`: Categorical variable representing the different salary tiers (1, 2, 3).\n",
    "- `Age`: Numerical variable representing the age of the employee.\n",
    "- `Gender`: Categorical variable representing the gender of the employee (\"Male\", \"Female\").\n",
    "- `EverBenched`: Categorical (binary) variable representing whether the employee has ever been \"benched\" (\"Yes\") or not (\"No\").\n",
    "- `ExperienceInCurrentDomain`: Numerical variable representing years of experience the employee has.\n",
    "- `LeaveOrNot`: Binary response variable representing whether the employee left the company (1) or stayed (0).\n",
    "\n",
    "This dataset offers a mix of demographic, employment, and behavioral information. Each record captures unique attributes for individual employees, enabling analysis of factors that may contribute to whether an employee stays with or leaves the company. Insights drawn from this data can help organizations understand key drivers of employee retention and guide HR policy improvements.\n",
    "\n",
    "[Link to the Dataset](https://www.kaggle.com/datasets/tawfikelmetwally/employee-dataset/data)"
   ]
  },
  {
   "attachments": {},
   "cell_type": "markdown",
   "metadata": {},
   "source": [
    "### Question\n",
    "How can logistic regression, logistic regression with ridge regularization, and logistic regression with lasso regularization be used to predict employee turnover? Furthermore, how do these methods compare in their ability to identify influential factors, provide model interpretability, and achieve predictive performance?"
   ]
  },
  {
   "attachments": {},
   "cell_type": "markdown",
   "metadata": {},
   "source": [
    "### Literature Review\n",
    "Previous research has identified predictors such as job satisfaction, organizational commitment, and external job opportunities as key factors influencing turnover intentions.\n",
    "\n",
    "Alkahtani (2015) highlights employee turnover as a growing concern, with rates steadily increasing over time. The study identifies seven key factors influencing turnover: organizational commitment, job satisfaction, training, perceived organizational support, perceived supervisor support, organizational climate, and employees' benefits and opportunities, along with organizational justice (Alkahtani, 2015). These factors play a critical role in fostering employee loyalty and ensuring their continued contribution to the organization.\n",
    "\n",
    "Kanchana and Jayathilaka (2023) discovered that gender and age significantly influence employee turnover in Sri Lankan startups. Their research also revealed that increased interaction between managers and employees positively impacts turnover rates. They concluded that enhancing job satisfaction plays a crucial role in reducing turnover and recommended engaging employees in discussions about organizational challenges and strategies to help improve their skills and experience.\n",
    "\n",
    "Alkaabi et al. (2024) highlight key factors influencing employee turnover, including job satisfaction, leadership efficacy, corporate culture, and career advancement opportunities. They emphasize the importance of professional development, workload management, and recognition to reduce attrition, alongside fostering positive work environments and effective leadership. The study recommends HR strategies such as leadership development programs, flexible work schedules, and open communication to address turnover risks."
   ]
  },
  {
   "attachments": {},
   "cell_type": "markdown",
   "metadata": {},
   "source": [
    "## Methods and Results"
   ]
  },
  {
   "attachments": {},
   "cell_type": "markdown",
   "metadata": {},
   "source": [
    "### Exploratory Data Analysis (EDA)"
   ]
  },
  {
   "attachments": {},
   "cell_type": "markdown",
   "metadata": {},
   "source": [
    "Demonstrate that the dataset can be read into R.\n",
    "Clean and wrangle your data into a tidy format.\n",
    "Plot the relevant raw data, tailoring your plot to address your question.\n",
    "Make sure to explore the association of the explanatory variables with the response.\n",
    "Any summary tables that are relevant to your analysis.\n",
    "Be sure not to print output that takes up a lot of screen space.\n",
    "Your EDA must be comprehensive with high quality plots."
   ]
  },
  {
   "attachments": {},
   "cell_type": "markdown",
   "metadata": {},
   "source": [
    "### Methods: Plan"
   ]
  },
  {
   "attachments": {},
   "cell_type": "markdown",
   "metadata": {},
   "source": [
    "Describe in written English the methods you used to perform your analysis from beginning to end, and narrate the code that does the analysis.\n",
    "If included, describe the “Feature Selection” process and how and why you choose the covariates of your final model.\n",
    "Make sure to interpret/explain the results you obtain. It’s not enough to just say, “I fitted a linear model with these covariates, and my R-square is 0.87”.\n",
    "If inference is the aim of your project, a detailed interpretation of your fitted model is required, as well as a discussion of relevant quantities (e.g., are the coefficients significant? How does the model fit the data)?\n",
    "A careful model assessment must be conducted.\n",
    "If prediction is the project's aim, describe the test data used or how it was created.\n",
    "Ensure your tables and/or figures are labelled with a figure/table number."
   ]
  },
  {
   "attachments": {},
   "cell_type": "markdown",
   "metadata": {},
   "source": [
    "## Discussion"
   ]
  },
  {
   "attachments": {},
   "cell_type": "markdown",
   "metadata": {},
   "source": [
    "In this section, you’ll interpret the results you obtained in the previous section with respect to the main question/goal of your project.\n",
    "\n",
    "Summarize what you found and the implications/impact of your findings.\n",
    "If relevant, discuss whether your results were what you expected to find.\n",
    "Discuss how your model could be improved;\n",
    "Discuss future questions/research this study could lead to."
   ]
  },
  {
   "attachments": {},
   "cell_type": "markdown",
   "metadata": {},
   "source": [
    "## References"
   ]
  },
  {
   "attachments": {},
   "cell_type": "markdown",
   "metadata": {},
   "source": [
    "Alkaabi, A., Alghizzawi, M., Daoud, M. K., & Ezmigna, I. (2024). Factors affecting employee turnover Intention: an integrative perspective. In Studies in systems, decision and control (pp. 737–748). https://doi.org/10.1007/978-3-031-54383-8_57\n",
    "\n",
    "Alkahtani, A. H. (2015). Investigating Factors that Influence Employees’ Turnover Intention: A Review of Existing Empirical Works. International Journal of Business and Management, 10(12), 152. https://doi.org/10.5539/ijbm.v10n12p152\n",
    "\n",
    "Employee dataset. (2023, September 6). Kaggle. https://www.kaggle.com/datasets/tawfikelmetwally/employee-dataset\n",
    "\n",
    "Kanchana, L., & Jayathilaka, R. (2023). Factors impacting employee turnover intentions among professionals in Sri Lankan startups. PLoS ONE, 18(2), e0281729. https://doi.org/10.1371/journal.pone.0281729"
   ]
  },
  {
   "cell_type": "markdown",
   "metadata": {},
   "source": []
  }
 ],
 "metadata": {
  "language_info": {
   "name": "python"
  },
  "orig_nbformat": 4
 },
 "nbformat": 4,
 "nbformat_minor": 2
}
